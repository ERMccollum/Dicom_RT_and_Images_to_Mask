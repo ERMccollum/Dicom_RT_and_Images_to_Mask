{
 "cells": [
  {
   "cell_type": "markdown",
   "metadata": {},
   "source": [
    "# Data curation"
   ]
  },
  {
   "cell_type": "markdown",
   "metadata": {},
   "source": [
    "### Import some necessary functions"
   ]
  },
  {
   "cell_type": "code",
   "execution_count": 18,
   "metadata": {},
   "outputs": [],
   "source": [
    "import os, pydicom, sys\n",
    "import numpy as np\n",
    "from Plot_And_Scroll_Images.Plot_Scroll_Images import plot_Image_Scroll_Bar_Image, plot_scroll_Image\n",
    "import SimpleITK as sitk\n",
    "from Image_Array_And_Mask_From_Dicom_RT import Dicom_to_Imagestack"
   ]
  },
  {
   "cell_type": "markdown",
   "metadata": {},
   "source": [
    "## Finding the Data"
   ]
  },
  {
   "cell_type": "markdown",
   "metadata": {},
   "source": [
    "### Find where we put our data"
   ]
  },
  {
   "cell_type": "code",
   "execution_count": 4,
   "metadata": {},
   "outputs": [
    {
     "name": "stdout",
     "output_type": "stream",
     "text": [
      "We have 63 patients!\n"
     ]
    }
   ],
   "source": [
    "data_path = r'K:\\Morfeus\\BMAnderson\\CNN\\Data\\Data_Liver\\Liver_Disease_Ablation_Segmentation\\Images'\n",
    "print('We have ' + str(len(os.listdir(data_path))) + ' patients!')"
   ]
  },
  {
   "cell_type": "markdown",
   "metadata": {},
   "source": [
    "## Ensuring contour fidelity..."
   ]
  },
  {
   "cell_type": "markdown",
   "metadata": {},
   "source": [
    "### Note that we've set 'get_images_mask' to False, this means we won't be getting any of the image data, just looking at the dicom RT files"
   ]
  },
  {
   "cell_type": "code",
   "execution_count": 5,
   "metadata": {
    "scrolled": true
   },
   "outputs": [],
   "source": [
    "Dicom_Reader = Dicom_to_Imagestack(get_images_mask=False)"
   ]
  },
  {
   "cell_type": "code",
   "execution_count": 6,
   "metadata": {},
   "outputs": [],
   "source": [
    "Dicom_Reader.down_folder(data_path)"
   ]
  },
  {
   "cell_type": "markdown",
   "metadata": {},
   "source": [
    "### What ROI names do we have?\n",
    "\n",
    "#### This will tell us all the unique roi names, hence all_rois"
   ]
  },
  {
   "cell_type": "code",
   "execution_count": 7,
   "metadata": {
    "scrolled": false
   },
   "outputs": [
    {
     "name": "stdout",
     "output_type": "stream",
     "text": [
      "GTV\n",
      "Ablation\n",
      "External\n",
      "Liver_BMA_Program\n",
      "Liver\n",
      "Liver_Ethan\n",
      "Liver_TriMesh\n",
      "Liver_Ethan PV\n",
      "Liver_Ethan PV_TriMesh\n",
      "GTV_Expand_Hollow\n",
      "Liver_MBS\n",
      "Liver_MBS_TriMesh (8)\n",
      "GTV 5mm\n",
      "Excluded 5mm\n",
      "GTV 8mm\n",
      "Excluded 8mm\n",
      "GTV 10mm\n",
      "Excluded 10mm\n",
      "Included\n",
      "Liver_BMA_Program_4\n",
      "Liver_BMA_Program_42\n",
      "Liver_Ethan post-ablation\n",
      "veins\n",
      "Liver_MBS_Rigid\n",
      "Liver_MBS_Elastic\n",
      "Liver_MBS_TriMesh (4)\n",
      "Liver_TriMesh (4)\n",
      "Excluded 0mm\n",
      "Liver_og\n",
      "POI_1\n",
      "Liver_Reduced\n",
      "Needle_Track\n",
      "Liver_after_MBS\n",
      "Liver_MBS_TriMesh\n",
      "test\n",
      "Liver_MBS_TriMesh (12)\n",
      "Liver_BMA_Program_2397\n",
      "Liver_BMA_Program_2\n",
      "Liver_w_veins\n",
      "external\n",
      "Liver_Ethan post ablation\n",
      "Liver_BMA_Program_4_TriMesh\n",
      "Liver_TriMesh (2)\n",
      "Liver_Ethan post ablation PV\n",
      "Liver_Ethan pre-ablation\n",
      "test_TriMesh\n",
      "Liver_Coarse\n",
      "Needle\n",
      "Liver_TriMesh (1)\n",
      "GTV_og\n",
      "Liver_BMA_Program_TriMesh\n",
      "Liver_Ethan PV_TriMesh (6)\n",
      "Liver_reduced\n",
      "Liver_TriMesh (12)\n",
      "Liver_MBS_2\n",
      "GTV_CT 1->CT 14\n",
      "Ablation_CT 14->CT 1\n",
      "Ablation_test\n",
      "Liver_BMA_Program_0\n",
      "Liver_BMA_Program_1\n",
      "Liver_Ethan pre ablation\n",
      "Liver_Reduced_TriMesh\n",
      "Liver_Ethan PV_TriMesh (3)\n",
      "GTV_1\n",
      "GTV_2\n",
      "GTV_3\n",
      "GTV_4\n",
      "Liver_MBS_19\n",
      "Liver_AW\n",
      "Liver_BMA_Program_i\n",
      "Liver_BMA_Program_3\n",
      "All_Vasc\n",
      "Liver_Simple\n",
      "Liver_Vasc\n",
      "GTV_CT 1->CT 28\n",
      "Ribs\n",
      "Spine\n",
      "Liver_TriMesh_1mm_smoothing\n",
      "Liver_TriMesh_2cm\n",
      "Liver_TriMesh_3mm_edge\n",
      "Liver_TriMesh_6mm_edge\n",
      "Liver_TriMesh_20mm_edge\n",
      "GTV_i\n",
      "Liver_BMA_Program_3_i\n",
      "Needle Track\n",
      "MBS_Liver_Original\n",
      "Liver_og(1)\n",
      "Liver_Model\n",
      "vas\n",
      "internal_vas\n"
     ]
    }
   ],
   "source": [
    "for roi in Dicom_Reader.all_rois:\n",
    "    print(roi)"
   ]
  },
  {
   "cell_type": "markdown",
   "metadata": {},
   "source": [
    "## Make contour associations"
   ]
  },
  {
   "cell_type": "markdown",
   "metadata": {},
   "source": [
    "#### We have quite a few contour names here.. now, we can either change the ROI names in the RT files, or make an associations file\n",
    "\n",
    "#### The associations file associates a contour name with another one {'Current contour':'Desired name'}"
   ]
  },
  {
   "cell_type": "code",
   "execution_count": 8,
   "metadata": {},
   "outputs": [],
   "source": [
    "associations = {'Liver_BMA_Program_4':'Liver',\n",
    "                'bma_liver':'Liver',\n",
    "                'best_liver':'Liver',\n",
    "                'tried_liver':'Liver'}"
   ]
  },
  {
   "cell_type": "markdown",
   "metadata": {},
   "source": [
    "### Tell the Dicom_Reader that we want to set the associations, get the images and mask for contour 'Liver'"
   ]
  },
  {
   "cell_type": "code",
   "execution_count": 9,
   "metadata": {},
   "outputs": [],
   "source": [
    "Dicom_Reader.set_associations(associations)\n",
    "Dicom_Reader.set_get_images_and_mask(True)\n",
    "Dicom_Reader.set_contour_names(['liver'])"
   ]
  },
  {
   "cell_type": "markdown",
   "metadata": {},
   "source": [
    "### Re-write RTs\n",
    "#### This is commented out, because if I run it, then the example above won't show any different contour names"
   ]
  },
  {
   "cell_type": "code",
   "execution_count": 19,
   "metadata": {},
   "outputs": [],
   "source": [
    "# Dicom_Reader.associations = associations\n",
    "# for RT in Dicom_Reader.all_RTs:\n",
    "#     Dicom_Reader.rewrite_RT(RT)"
   ]
  },
  {
   "cell_type": "markdown",
   "metadata": {},
   "source": [
    "## Pulling images and mask"
   ]
  },
  {
   "cell_type": "markdown",
   "metadata": {},
   "source": [
    "### We'll first do this with one patient"
   ]
  },
  {
   "cell_type": "code",
   "execution_count": 13,
   "metadata": {},
   "outputs": [
    {
     "name": "stdout",
     "output_type": "stream",
     "text": [
      "Done!\n"
     ]
    }
   ],
   "source": [
    "patient_data_path = os.path.join(data_path,os.listdir(data_path)[0],'CT 2')\n",
    "Dicom_Reader.Make_Contour_From_directory(patient_data_path)\n",
    "print('Done!')"
   ]
  },
  {
   "cell_type": "markdown",
   "metadata": {},
   "source": [
    "## View images"
   ]
  },
  {
   "cell_type": "code",
   "execution_count": 14,
   "metadata": {},
   "outputs": [],
   "source": [
    "%matplotlib inline"
   ]
  },
  {
   "cell_type": "markdown",
   "metadata": {},
   "source": [
    "### The images and mask are saved within the Dicom_Reader class, so we just have to load them"
   ]
  },
  {
   "cell_type": "code",
   "execution_count": 15,
   "metadata": {},
   "outputs": [],
   "source": [
    "Images = Dicom_Reader.ArrayDicom\n",
    "mask = Dicom_Reader.mask # This is the mask"
   ]
  },
  {
   "cell_type": "markdown",
   "metadata": {},
   "source": [
    "### Viewing nifti handles"
   ]
  },
  {
   "cell_type": "code",
   "execution_count": 20,
   "metadata": {},
   "outputs": [],
   "source": [
    "dicom_handle = Dicom_Reader.dicom_handle\n",
    "annotations_handle = Dicom_Reader.annotation_handle"
   ]
  },
  {
   "cell_type": "markdown",
   "metadata": {},
   "source": [
    "### Threshold"
   ]
  },
  {
   "cell_type": "code",
   "execution_count": 16,
   "metadata": {},
   "outputs": [],
   "source": [
    "Images[Images<-200] = -200\n",
    "Images[Images>200] = 200"
   ]
  },
  {
   "cell_type": "code",
   "execution_count": 19,
   "metadata": {
    "scrolled": false
   },
   "outputs": [
    {
     "data": {
      "application/vnd.jupyter.widget-view+json": {
       "model_id": "26a6883efa8747c1bd328935ed43bb14",
       "version_major": 2,
       "version_minor": 0
      },
      "text/plain": [
       "interactive(children=(IntSlider(value=0, description='Z'), Text(value='2D', description='view'), Output(layout…"
      ]
     },
     "metadata": {},
     "output_type": "display_data"
    }
   ],
   "source": [
    "plot_Image_Scroll_Bar_Image(Images)"
   ]
  },
  {
   "cell_type": "code",
   "execution_count": 14,
   "metadata": {},
   "outputs": [],
   "source": [
    "Images[mask==1] += 300"
   ]
  },
  {
   "cell_type": "markdown",
   "metadata": {},
   "source": [
    "## Recap\n",
    "\n",
    "### Checking ROI contour names and making associations\n",
    "\n",
    "### Loading in image and mask from desired contour name\n",
    "\n",
    "### Viewing images and mask"
   ]
  },
  {
   "cell_type": "markdown",
   "metadata": {},
   "source": [
    "## Separate into Train/Test/Validation\n",
    "\n",
    "### This is also important, but I would recommend using the 'Parallel' approach available in https://github.com/brianmanderson/Dicom_Data_to_Numpy_Arrays"
   ]
  }
 ],
 "metadata": {
  "kernelspec": {
   "display_name": "Python 3",
   "language": "python",
   "name": "python3"
  },
  "language_info": {
   "codemirror_mode": {
    "name": "ipython",
    "version": 3
   },
   "file_extension": ".py",
   "mimetype": "text/x-python",
   "name": "python",
   "nbconvert_exporter": "python",
   "pygments_lexer": "ipython3",
   "version": "3.6.8"
  }
 },
 "nbformat": 4,
 "nbformat_minor": 2
}
